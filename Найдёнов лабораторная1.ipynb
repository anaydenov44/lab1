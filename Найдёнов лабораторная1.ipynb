{
 "cells": [
  {
   "cell_type": "markdown",
   "metadata": {},
   "source": [
    "## Лабораторная работа №1"
   ]
  },
  {
   "cell_type": "markdown",
   "metadata": {},
   "source": [
    "Замечание: при решении данных задач не подразумевается использования циклов или генераторов Python, если в задании не сказано обратного. Решение должно опираться на использования функционала библиотеки `numpy`."
   ]
  },
  {
   "cell_type": "markdown",
   "metadata": {},
   "source": [
    "1. Файл `minutes_n_ingredients.csv` содержит информацию об идентификаторе рецепта, времени его выполнения в минутах и количестве необходимых ингредиентов. Считайте данные из этого файла в виде массива `numpy` типа `int32`, используя `np.loadtxt`. Выведите на экран первые 5 строк массива."
   ]
  },
  {
   "cell_type": "code",
   "execution_count": 3,
   "metadata": {},
   "outputs": [
    {
     "data": {
      "text/plain": [
       "array([[127244,     60,     16],\n",
       "       [ 23891,     25,      7],\n",
       "       [ 94746,     10,      6],\n",
       "       [ 67660,      5,      6],\n",
       "       [157911,     60,     14]])"
      ]
     },
     "execution_count": 3,
     "metadata": {},
     "output_type": "execute_result"
    }
   ],
   "source": [
    "import numpy as np\n",
    "a = np.loadtxt(\"C:\\\\Users\\\\sankl\\\\OneDrive\\\\Документы\\\\minutes_n_ingredients.csv\", delimiter = \",\", dtype = np.int32, skiprows = 1)\n",
    "a[0:5]"
   ]
  },
  {
   "cell_type": "markdown",
   "metadata": {},
   "source": [
    "2. Вычислите среднее значение, минимум, максимум и медиану по каждому из столбцов, кроме первого."
   ]
  },
  {
   "cell_type": "code",
   "execution_count": 4,
   "metadata": {},
   "outputs": [
    {
     "name": "stdout",
     "output_type": "stream",
     "text": [
      "макимальное значение во втором столбце 2147483647, в третьем столбце 39\n",
      "минимальное значение во втором столбце 0, в третьем столбце 1\n",
      "среднее значение во втором столбце 21601.00169, в третьем столбце 9.05528\n",
      "значение медианы во втором столбце 40.0, в третьем столбце 9.0\n"
     ]
    }
   ],
   "source": [
    "ma2 = np.max(a[:,1:2])\n",
    "ma3 = np.max(a[:,2])\n",
    "print(f\"макимальное значение во втором столбце {ma2}, в третьем столбце {ma3}\")\n",
    "mi2 = np.min(a[:,1:2])\n",
    "mi3 = np.min(a[:,2])\n",
    "print(f\"минимальное значение во втором столбце {mi2}, в третьем столбце {mi3}\")\n",
    "me2 = np.mean(a[:,1:2])\n",
    "me3 = np.mean(a[:,2])\n",
    "print(f\"среднее значение во втором столбце {me2}, в третьем столбце {me3}\")\n",
    "med2 = np.median(a[:, 1:2])\n",
    "med3 = np.median(a[:, 2])\n",
    "print(f\"значение медианы во втором столбце {med2}, в третьем столбце {med3}\")"
   ]
  },
  {
   "cell_type": "markdown",
   "metadata": {},
   "source": [
    "3. Ограничьте сверху значения продолжительности выполнения рецепта значением квантиля $q_{0.75}$. "
   ]
  },
  {
   "cell_type": "code",
   "execution_count": 5,
   "metadata": {},
   "outputs": [
    {
     "data": {
      "text/plain": [
       "array([[127244,     60,     16],\n",
       "       [ 23891,     25,      7],\n",
       "       [ 94746,     10,      6],\n",
       "       ...,\n",
       "       [ 43407,     35,      7],\n",
       "       [498432,     65,     15],\n",
       "       [370915,      5,      4]])"
      ]
     },
     "execution_count": 5,
     "metadata": {},
     "output_type": "execute_result"
    }
   ],
   "source": [
    "q = np.quantile(a[:,1], 0.75)\n",
    "new_a1 =  a[a[:,1] <= q]\n",
    "new_a1\n"
   ]
  },
  {
   "cell_type": "markdown",
   "metadata": {},
   "source": [
    "4. Посчитайте, для скольких рецептов указана продолжительность, равная нулю. Замените для таких строк значение в данном столбце на 1."
   ]
  },
  {
   "cell_type": "code",
   "execution_count": 6,
   "metadata": {},
   "outputs": [
    {
     "name": "stdout",
     "output_type": "stream",
     "text": [
      "479\n"
     ]
    }
   ],
   "source": [
    "print(list(a[:,1]).count(0))\n",
    "a[a == 0] = 1"
   ]
  },
  {
   "cell_type": "markdown",
   "metadata": {},
   "source": [
    "5. Посчитайте, сколько уникальных рецептов находится в датасете."
   ]
  },
  {
   "cell_type": "code",
   "execution_count": 7,
   "metadata": {},
   "outputs": [
    {
     "data": {
      "text/plain": [
       "100000"
      ]
     },
     "execution_count": 7,
     "metadata": {},
     "output_type": "execute_result"
    }
   ],
   "source": [
    "len(np.unique(a[:,0]))"
   ]
  },
  {
   "cell_type": "markdown",
   "metadata": {},
   "source": [
    "6. Сколько и каких различных значений кол-ва ингредиентов присутвует в рецептах из датасета?"
   ]
  },
  {
   "cell_type": "code",
   "execution_count": 8,
   "metadata": {},
   "outputs": [
    {
     "name": "stdout",
     "output_type": "stream",
     "text": [
      "37\n",
      "[ 1  2  3  4  5  6  7  8  9 10 11 12 13 14 15 16 17 18 19 20 21 22 23 24\n",
      " 25 26 27 28 29 30 31 32 33 34 35 37 39]\n"
     ]
    }
   ],
   "source": [
    "print(len(np.unique(a[:,2])))\n",
    "print(np.unique(a[:,2]))"
   ]
  },
  {
   "cell_type": "markdown",
   "metadata": {},
   "source": [
    "7. Создайте версию массива, содержащую информацию только о рецептах, состоящих не более чем из 5 ингредиентов."
   ]
  },
  {
   "cell_type": "code",
   "execution_count": 9,
   "metadata": {},
   "outputs": [
    {
     "name": "stdout",
     "output_type": "stream",
     "text": [
      "[[446597     15      5]\n",
      " [204134      5      3]\n",
      " [ 25623      6      4]\n",
      " ...\n",
      " [ 52088     60      5]\n",
      " [128811     15      4]\n",
      " [370915      5      4]]\n"
     ]
    }
   ],
   "source": [
    "a2 = a[a[:,2] <= 5]\n",
    "print(a2)"
   ]
  },
  {
   "cell_type": "markdown",
   "metadata": {},
   "source": [
    "8. Для каждого рецепта посчитайте, сколько в среднем ингредиентов приходится на одну минуту рецепта. Найдите максимальное значение этой величины для всего датасета"
   ]
  },
  {
   "cell_type": "code",
   "execution_count": 10,
   "metadata": {},
   "outputs": [
    {
     "name": "stdout",
     "output_type": "stream",
     "text": [
      "[0.26666667 0.28       0.6        ... 0.23076923 0.8        0.1       ]\n",
      "24.0\n"
     ]
    }
   ],
   "source": [
    "a3 = a[:,2] / a[:,1]\n",
    "print(a3)\n",
    "print(np.max(a3))"
   ]
  },
  {
   "cell_type": "markdown",
   "metadata": {},
   "source": [
    "9. Вычислите среднее количество ингредиентов для топ-100 рецептов с наибольшей продолжительностью"
   ]
  },
  {
   "cell_type": "code",
   "execution_count": 11,
   "metadata": {},
   "outputs": [
    {
     "name": "stdout",
     "output_type": "stream",
     "text": [
      "6.61\n"
     ]
    }
   ],
   "source": [
    "a4 = a[np.argsort(a[:,1])][-100:,2]\n",
    "print(np.mean(a4))"
   ]
  },
  {
   "cell_type": "markdown",
   "metadata": {},
   "source": [
    "10. Выберите случайным образом и выведите информацию о 10 различных рецептах"
   ]
  },
  {
   "cell_type": "code",
   "execution_count": 12,
   "metadata": {},
   "outputs": [
    {
     "name": "stdout",
     "output_type": "stream",
     "text": [
      "[[193710     45     11]\n",
      " [ 98483     75     17]\n",
      " [142961     25      7]\n",
      " [ 40267     45      5]\n",
      " [285509     20      2]\n",
      " [ 50784    490      7]\n",
      " [345490     30     18]\n",
      " [516959     35     13]\n",
      " [219353     90     17]\n",
      " [357716    150     10]]\n"
     ]
    }
   ],
   "source": [
    "print(a[np.random.randint(a.shape[0], size=10)])"
   ]
  },
  {
   "cell_type": "markdown",
   "metadata": {},
   "source": [
    "11. Выведите процент рецептов, кол-во ингредиентов в которых меньше среднего."
   ]
  },
  {
   "cell_type": "code",
   "execution_count": 13,
   "metadata": {},
   "outputs": [
    {
     "name": "stdout",
     "output_type": "stream",
     "text": [
      "58.802\n"
     ]
    }
   ],
   "source": [
    "a5 = (a[a[:,2] < np.mean(a[:,2])].shape[0])/a.shape[0]\n",
    "print(a5*100)"
   ]
  },
  {
   "cell_type": "markdown",
   "metadata": {},
   "source": [
    "12. Назовем \"простым\" такой рецепт, длительность выполнения которого не больше 20 минут и кол-во ингредиентов в котором не больше 5. Создайте версию датасета с дополнительным столбцом, значениями которого являются 1, если рецепт простой, и 0 в противном случае."
   ]
  },
  {
   "cell_type": "code",
   "execution_count": 14,
   "metadata": {},
   "outputs": [
    {
     "name": "stdout",
     "output_type": "stream",
     "text": [
      "[[127244     60     16      0]\n",
      " [ 23891     25      7      0]\n",
      " [ 94746     10      6      0]\n",
      " ...\n",
      " [498432     65     15      0]\n",
      " [370915      5      4      1]\n",
      " [ 81993    140     14      0]]\n"
     ]
    }
   ],
   "source": [
    "a_q = (a[:,1] <= 20) & (a[:,2] <= 5)\n",
    "a6 = np.hstack((a, a_q[:,np.newaxis]))\n",
    "print(a6)"
   ]
  },
  {
   "cell_type": "markdown",
   "metadata": {},
   "source": [
    "13. Выведите процент \"простых\" рецептов в датасете"
   ]
  },
  {
   "cell_type": "code",
   "execution_count": 15,
   "metadata": {},
   "outputs": [
    {
     "name": "stdout",
     "output_type": "stream",
     "text": [
      "9.552\n"
     ]
    }
   ],
   "source": [
    "a7 = a6[a6[:,3] == 1]\n",
    "print((a7.shape[0]/a.shape[0]) *100)"
   ]
  },
  {
   "cell_type": "markdown",
   "metadata": {},
   "source": [
    "14. Разделим рецепты на группы по следующему правилу. Назовем рецепты короткими, если их продолжительность составляет менее 10 минут; стандартными, если их продолжительность составляет более 10, но менее 20 минут; и длинными, если их продолжительность составляет не менее 20 минут. Создайте трехмерный массив, где нулевая ось отвечает за номер группы (короткий, стандартный или длинный рецепт), первая ось - за сам рецепт и вторая ось - за характеристики рецепта. Выберите максимальное количество рецептов из каждой группы таким образом, чтобы было возможно сформировать трехмерный массив. Выведите форму полученного массива."
   ]
  },
  {
   "cell_type": "code",
   "execution_count": 36,
   "metadata": {},
   "outputs": [
    {
     "name": "stdout",
     "output_type": "stream",
     "text": [
      "(7588, 3) (12661, 3) (79751, 3)\n",
      "[[[     0  67660      5      6]\n",
      "  [     0 366174      7      9]\n",
      "  [     0 204134      5      3]\n",
      "  ...\n",
      "  [     0 420725      5      3]\n",
      "  [     0   4747      1      9]\n",
      "  [     0 370915      5      4]]\n",
      "\n",
      " [[     1  94746     10      6]\n",
      "  [     1  33941     18      9]\n",
      "  [     1 446597     15      5]\n",
      "  ...\n",
      "  [     1   9831     15      7]\n",
      "  [     1 335859     12     14]\n",
      "  [     1 256812     10      3]]\n",
      "\n",
      " [[     2 127244     60     16]\n",
      "  [     2  23891     25      7]\n",
      "  [     2 157911     60     14]\n",
      "  ...\n",
      "  [     2 168901     25      7]\n",
      "  [     2 392339     35     13]\n",
      "  [     2 206732     45     10]]]\n"
     ]
    }
   ],
   "source": [
    "amal = a[a[:,1] < 10]\n",
    "asr = a[(a[:,1] >= 10) & (a[:,1] < 20)]\n",
    "amax = a[a[:,1] >= 20]\n",
    "crit = min(amal.shape[0], asr.shape[0], amax.shape[0])\n",
    "A = np.arange(crit*3*4).reshape(3, crit, 4)  \n",
    "A[0,:,0] = 0\n",
    "A[1,:,0] = 1\n",
    "A[2,:,0] = 2\n",
    "A[0][:,1:] = amal[:crit,:]\n",
    "A[1][:,1:] = asr[:crit,:]\n",
    "A[2][:,1:] = amax[:crit,:]\n",
    "print(amal.shape, asr.shape, amax.shape)\n",
    "print(A)"
   ]
  },
  {
   "cell_type": "code",
   "execution_count": null,
   "metadata": {},
   "outputs": [],
   "source": []
  }
 ],
 "metadata": {
  "kernelspec": {
   "display_name": "Python 3 (ipykernel)",
   "language": "python",
   "name": "python3"
  },
  "language_info": {
   "codemirror_mode": {
    "name": "ipython",
    "version": 3
   },
   "file_extension": ".py",
   "mimetype": "text/x-python",
   "name": "python",
   "nbconvert_exporter": "python",
   "pygments_lexer": "ipython3",
   "version": "3.9.12"
  }
 },
 "nbformat": 4,
 "nbformat_minor": 4
}
